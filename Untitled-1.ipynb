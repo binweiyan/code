{
 "cells": [
  {
   "cell_type": "code",
   "execution_count": 1,
   "metadata": {},
   "outputs": [],
   "source": [
    "import numpy"
   ]
  },
  {
   "cell_type": "code",
   "execution_count": 2,
   "metadata": {},
   "outputs": [],
   "source": [
    "#generate target for predicting the price with 1min, 3min, 10min, 30min, 60min, 90min, 120min\n",
    "def load_ukey(date,ukey): pass\n",
    "def gen_training_data(date, ukey, target, period):\n",
    "    #date: the date of the data\n",
    "    #ukey: the unique key of the data\n",
    "    #target: how many minutes later\n",
    "    #period: how many minutes of the data to train\n",
    "    #return: the training data and the target data\n",
    "    #load the data  \n",
    "    data = load_ukey(date, ukey)\n",
    "    #the data is in the format of pandas dataframe, with the columns of msymbol_ukey, date, interval and all the features\n",
    "    #each row is a minute data\n",
    "    #the target is the price of the target minutes later divided by the price of the current minute\n",
    "    #DD.isActive is whether the market is active, if the target time is not active or the current time is not active, the target is nan\n",
    "    #use all the features to predict the price\n",
    "    target_data = data['DD.robust'].shift(-target) / data['DD.robust']\n",
    "    target_data[~data['DD.isActive'] | ~target_data.index.isin(data['DD.isActive'].index)] = numpy.nan\n",
    "    #use the last period minutes data to predict the price for each target\n",
    "    for i in range(1, period + 1):\n",
    "        for col in data.columns:\n",
    "            data[col + '_shift_' + str(i)] = data[col].shift(i)\n",
    "    #the training data is the last period minutes data\n",
    "    training_data = data[[col + '_shift_' + str(i) for i in range(1, period + 1)]]\n",
    "    \n",
    "    \n",
    "    return training_data, target_data\n"
   ]
  },
  {
   "cell_type": "code",
   "execution_count": null,
   "metadata": {},
   "outputs": [],
   "source": []
  }
 ],
 "metadata": {
  "kernelspec": {
   "display_name": "Python 3",
   "language": "python",
   "name": "python3"
  },
  "language_info": {
   "codemirror_mode": {
    "name": "ipython",
    "version": 3
   },
   "file_extension": ".py",
   "mimetype": "text/x-python",
   "name": "python",
   "nbconvert_exporter": "python",
   "pygments_lexer": "ipython3",
   "version": "3.10.9"
  },
  "orig_nbformat": 4
 },
 "nbformat": 4,
 "nbformat_minor": 2
}
