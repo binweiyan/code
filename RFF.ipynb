{
 "cells": [
  {
   "cell_type": "code",
   "execution_count": null,
   "metadata": {},
   "outputs": [],
   "source": [
    "#features are the columns of the data, we are trying to predict the target\n",
    "#we will use kernel ridge regression to predict the target\n",
    "#the kernel is the rbf kernel\n",
    "#the parameters of the kernel are tuned by grid search\n",
    "import pandas as pd\n",
    "features = pd.read_csv('features.csv')\n",
    "target = pd.read_csv('target.csv')\n",
    "#the data is from 2010-01-01 to 2016-12-31\n",
    "#the data is from yahoo finance\n",
    "#the data is downloaded by pandas_datareader\n",
    "#the data is stored in the csv file\n",
    "\n",
    "#construct the kernel matrix\n",
    "#the kernel is the rbf kernel\n",
    "import numpy as np\n",
    "from sklearn.metrics.pairwise import rbf_kernel\n",
    "kernel = rbf_kernel(features, features, gamma = 0.1)\n",
    "#the kernel matrix is stored in the csv file\n",
    "\n",
    "from sklearn.kernel_ridge import KernelRidge\n",
    "from sklearn.model_selection import train_test_split\n",
    "from sklearn.model_selection import GridSearchCV\n",
    "\n",
    "#split the data into training set and test set\n",
    "x_train, x_test, y_train, y_test = train_test_split(features, target, test_size = 0.2)\n",
    "#get the prediction of the target\n",
    "pred = KernelRidge(kernel = 'precomputed').fit(kernel, target).predict(kernel)\n",
    "#calculate the correlation between the prediction and the target\n",
    "print(np.corrcoef(pred, target['target'])[0, 1])\n",
    "\n",
    "\n",
    "\n",
    "\n",
    "\n"
   ]
  }
 ],
 "metadata": {
  "language_info": {
   "name": "python"
  },
  "orig_nbformat": 4
 },
 "nbformat": 4,
 "nbformat_minor": 2
}
