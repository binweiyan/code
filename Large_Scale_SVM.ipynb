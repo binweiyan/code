{
 "cells": [
  {
   "cell_type": "markdown",
   "metadata": {},
   "source": [
    "<h1><center> Large Scale Kernel Methods </center></h1>\n",
    "<center> Overcoming scaling issues of Support Vector Machines (and others) </center>"
   ]
  },
  {
   "cell_type": "markdown",
   "metadata": {
    "ExecuteTime": {
     "end_time": "2019-03-06T21:55:46.837810Z",
     "start_time": "2019-03-06T21:55:46.833985Z"
    }
   },
   "source": [
    "# I. Import"
   ]
  },
  {
   "cell_type": "code",
   "execution_count": 1,
   "metadata": {
    "ExecuteTime": {
     "end_time": "2019-03-06T23:39:07.366165Z",
     "start_time": "2019-03-06T23:39:07.350028Z"
    }
   },
   "outputs": [],
   "source": [
    "import numpy as np\n",
    "from scipy import linalg\n",
    "import matplotlib.pyplot as plt\n",
    "from time import time\n",
    "from math import pi\n",
    "plt.style.use('ggplot')\n",
    "\n",
    "from sklearn.metrics import accuracy_score\n",
    "from sklearn.model_selection import train_test_split\n",
    "from sklearn.preprocessing import StandardScaler\n",
    "from sklearn.datasets import load_svmlight_file\n",
    "from sklearn.datasets import make_classification\n",
    "from sklearn.metrics.pairwise import rbf_kernel\n",
    "from sklearn.svm import SVC, LinearSVC\n",
    "\n",
    "from scipy.sparse.linalg import svds\n",
    "from scipy.linalg import svd\n",
    "from scipy.sparse import csc_matrix\n",
    "from numpy.linalg import multi_dot\n",
    "from numpy.linalg import norm"
   ]
  },
  {
   "cell_type": "markdown",
   "metadata": {},
   "source": [
    "# II. Generate data"
   ]
  },
  {
   "cell_type": "code",
   "execution_count": 2,
   "metadata": {
    "ExecuteTime": {
     "end_time": "2019-03-06T22:13:29.320009Z",
     "start_time": "2019-03-06T22:13:28.878511Z"
    }
   },
   "outputs": [],
   "source": [
    "X, y = make_classification(n_samples=100000)\n",
    "X_train, X_test, y_train, y_test = train_test_split(X, y, random_state=42)"
   ]
  },
  {
   "cell_type": "code",
   "execution_count": 3,
   "metadata": {
    "ExecuteTime": {
     "end_time": "2019-03-06T22:13:29.548085Z",
     "start_time": "2019-03-06T22:13:29.481266Z"
    }
   },
   "outputs": [
    {
     "name": "stdout",
     "output_type": "stream",
     "text": [
      "Training samples : 75000\n",
      "Test samples: 25000\n",
      "Features: 20\n"
     ]
    }
   ],
   "source": [
    "scaler = StandardScaler()\n",
    "X_train = scaler.fit_transform(X_train)\n",
    "X_test = scaler.transform(X_test)\n",
    "\n",
    "n1, p = X_train.shape\n",
    "n2 = X_test.shape[0]\n",
    "\n",
    "print(\"Training samples :\", n1)\n",
    "print(\"Test samples:\", n2)\n",
    "print(\"Features:\", p)"
   ]
  },
  {
   "cell_type": "markdown",
   "metadata": {},
   "source": [
    "# III. Linear SVC"
   ]
  },
  {
   "cell_type": "code",
   "execution_count": 4,
   "metadata": {
    "ExecuteTime": {
     "end_time": "2019-03-06T22:13:31.019781Z",
     "start_time": "2019-03-06T22:13:30.680911Z"
    }
   },
   "outputs": [
    {
     "name": "stdout",
     "output_type": "stream",
     "text": [
      "done in 0.100s\n"
     ]
    }
   ],
   "source": [
    "# Train\n",
    "t0 = time()\n",
    "clf_lin = LinearSVC(dual=False)\n",
    "clf_lin.fit(X_train, y_train)\n",
    "print(\"done in %0.3fs\" % (time() - t0))"
   ]
  },
  {
   "cell_type": "code",
   "execution_count": 5,
   "metadata": {
    "ExecuteTime": {
     "end_time": "2019-03-06T22:13:31.974819Z",
     "start_time": "2019-03-06T22:13:31.953436Z"
    }
   },
   "outputs": [
    {
     "name": "stdout",
     "output_type": "stream",
     "text": [
      "done in 0.008s\n"
     ]
    }
   ],
   "source": [
    "# Test\n",
    "t1 = time()\n",
    "timing_linear = time() - t1\n",
    "y_pred = clf_lin.predict(X_test)\n",
    "print(\"done in %0.3fs\" % (time() - t1))"
   ]
  },
  {
   "cell_type": "code",
   "execution_count": 6,
   "metadata": {
    "ExecuteTime": {
     "end_time": "2019-03-06T22:13:32.900717Z",
     "start_time": "2019-03-06T22:13:32.888271Z"
    }
   },
   "outputs": [
    {
     "name": "stdout",
     "output_type": "stream",
     "text": [
      "classification accuracy: 0.963\n"
     ]
    }
   ],
   "source": [
    "# Accuracy\n",
    "accuracy_linear = accuracy_score(y_pred, y_test)\n",
    "print(\"classification accuracy: %0.3f\" % accuracy_linear)"
   ]
  },
  {
   "cell_type": "markdown",
   "metadata": {},
   "source": [
    "# IV. Gaussian Kernel SVC"
   ]
  },
  {
   "cell_type": "code",
   "execution_count": 7,
   "metadata": {
    "ExecuteTime": {
     "end_time": "2019-03-06T22:19:50.989985Z",
     "start_time": "2019-03-06T22:13:35.881595Z"
    }
   },
   "outputs": [
    {
     "name": "stdout",
     "output_type": "stream",
     "text": [
      "done in 24.875s\n"
     ]
    }
   ],
   "source": [
    "# Train\n",
    "t0 = time()\n",
    "clf = SVC(kernel='rbf')\n",
    "clf.fit(X_train, y_train)\n",
    "print(\"done in %0.3fs\" % (time() - t0))"
   ]
  },
  {
   "cell_type": "code",
   "execution_count": 8,
   "metadata": {
    "ExecuteTime": {
     "end_time": "2019-03-06T22:20:31.147937Z",
     "start_time": "2019-03-06T22:19:50.993755Z"
    }
   },
   "outputs": [
    {
     "name": "stdout",
     "output_type": "stream",
     "text": [
      "done in 6.807s\n"
     ]
    }
   ],
   "source": [
    "# Test\n",
    "t1 = time()\n",
    "y_pred = clf.predict(X_test)\n",
    "timing_kernel = time() - t1\n",
    "print(\"done in %0.3fs\" % (time() - t1))"
   ]
  },
  {
   "cell_type": "code",
   "execution_count": 9,
   "metadata": {
    "ExecuteTime": {
     "end_time": "2019-03-06T22:20:31.162697Z",
     "start_time": "2019-03-06T22:20:31.152644Z"
    }
   },
   "outputs": [
    {
     "name": "stdout",
     "output_type": "stream",
     "text": [
      "classification accuracy: 0.975\n"
     ]
    }
   ],
   "source": [
    "# Accuracy\n",
    "accuracy_kernel = accuracy_score(y_pred, y_test)\n",
    "print(\"classification accuracy: %0.3f\" % accuracy_kernel)"
   ]
  },
  {
   "cell_type": "markdown",
   "metadata": {},
   "source": [
    "# Random Kernel Features"
   ]
  },
  {
   "cell_type": "code",
   "execution_count": 10,
   "metadata": {
    "ExecuteTime": {
     "end_time": "2019-03-06T22:45:58.610167Z",
     "start_time": "2019-03-06T22:45:58.604080Z"
    }
   },
   "outputs": [],
   "source": [
    "def rank_trunc(gram_mat, k):\n",
    "    \n",
    "    u, s, vt = svds(gram_mat, k=k)\n",
    "    gram_mat_k = np.dot(u, np.dot(np.diag(s), vt))\n",
    "\n",
    "    return gram_mat_k"
   ]
  },
  {
   "cell_type": "code",
   "execution_count": 11,
   "metadata": {
    "ExecuteTime": {
     "end_time": "2019-03-06T22:46:43.038907Z",
     "start_time": "2019-03-06T22:46:43.023178Z"
    }
   },
   "outputs": [],
   "source": [
    "def random_features(X_train, X_test, gamma, c=300, seed=42):\n",
    "\n",
    "    rng = np.random.RandomState(seed)\n",
    "    n_samples, n_features = X_train.shape\n",
    "    \n",
    "    W = np.random.normal(0, np.sqrt(2*gamma), (n_features, c))\n",
    "    b = np.random.uniform(0, 2*pi, (1,c))\n",
    "\n",
    "    X_new_train = np.sqrt(2/n_features) * np.cos(np.dot(X_train, W) + b)\n",
    "    X_new_test = np.sqrt(2/n_features) * np.cos(np.dot(X_test, W) + b)\n",
    "\n",
    "    return X_new_train, X_new_test"
   ]
  },
  {
   "cell_type": "code",
   "execution_count": 12,
   "metadata": {},
   "outputs": [],
   "source": [
    "n_samples, n_features = X_train.shape\n",
    "gamma = 1. / n_features"
   ]
  },
  {
   "cell_type": "code",
   "execution_count": 13,
   "metadata": {},
   "outputs": [],
   "source": [
    "Z_train, Z_test = random_features(X_train, X_test, gamma, c=800)"
   ]
  },
  {
   "cell_type": "code",
   "execution_count": 14,
   "metadata": {
    "ExecuteTime": {
     "end_time": "2019-03-06T22:59:42.794964Z",
     "start_time": "2019-03-06T22:58:54.087082Z"
    }
   },
   "outputs": [
    {
     "name": "stdout",
     "output_type": "stream",
     "text": [
      "done in 7.805s\n"
     ]
    }
   ],
   "source": [
    "t0 = time()\n",
    "clf = LinearSVC(dual=False)\n",
    "clf.fit(Z_train, y_train)\n",
    "print(\"done in %0.3fs\" % (time() - t0))"
   ]
  },
  {
   "cell_type": "code",
   "execution_count": 15,
   "metadata": {},
   "outputs": [
    {
     "name": "stdout",
     "output_type": "stream",
     "text": [
      "done in 0.043s\n",
      "classification accuracy: 0.971\n"
     ]
    }
   ],
   "source": [
    "t1 = time()\n",
    "accuracy = clf.score(Z_test, y_test)\n",
    "print(\"done in %0.3fs\" % (time() - t1))\n",
    "print(\"classification accuracy: %0.3f\" % accuracy)"
   ]
  },
  {
   "cell_type": "markdown",
   "metadata": {},
   "source": [
    "# Nyström Approximation"
   ]
  },
  {
   "cell_type": "code",
   "execution_count": 22,
   "metadata": {
    "ExecuteTime": {
     "end_time": "2019-03-06T23:39:11.123414Z",
     "start_time": "2019-03-06T23:39:11.100046Z"
    }
   },
   "outputs": [],
   "source": [
    "from sklearn.metrics.pairwise import rbf_kernel\n",
    "from sklearn.gaussian_process.kernels import Matern, WhiteKernel, RBF, ConstantKernel, ExpSineSquared, RationalQuadratic, DotProduct, PairwiseKernel, Product, Sum, \n",
    "\n",
    "def nystrom(X_train, X_test, gamma, c=500, k=200, seed=44):\n",
    "\n",
    "    rng = np.random.RandomState(seed)\n",
    "    n_samples = X_train.shape[0]\n",
    "    idx = rng.choice(n_samples, c)\n",
    "\n",
    "    X_train_idx = X_train[idx, :]\n",
    "\n",
    "    #W = rbf_kernel(X_train_idx, X_train_idx, gamma=gamma)\n",
    "    #matern kernel\n",
    "    W = Matern(length_scale=1.0, nu=1.5)(X_train_idx, X_train_idx)\n",
    "    \n",
    "    u, s, vt = linalg.svd(W, full_matrices=False)\n",
    "    \n",
    "    u = u[:,:k]\n",
    "    s = s[:k]\n",
    "    vt = vt[:k, :]\n",
    "    \n",
    "    M = np.dot(u, np.diag(1/np.sqrt(s)))\n",
    "    \n",
    "    C_train = rbf_kernel(X_train, X_train_idx, gamma=gamma)\n",
    "    C_test = rbf_kernel(X_test, X_train_idx, gamma=gamma)\n",
    "    \n",
    "    X_new_train = np.dot(C_train, M)\n",
    "    X_new_test = np.dot(C_test, M)\n",
    "    \n",
    "    return X_new_train, X_new_test"
   ]
  },
  {
   "cell_type": "code",
   "execution_count": 23,
   "metadata": {
    "ExecuteTime": {
     "end_time": "2019-03-06T23:39:17.818659Z",
     "start_time": "2019-03-06T23:39:11.622544Z"
    }
   },
   "outputs": [],
   "source": [
    "Z_train, Z_test = nystrom(X_train, X_test, gamma, c=500, k=300, seed=44)"
   ]
  },
  {
   "cell_type": "code",
   "execution_count": 24,
   "metadata": {
    "ExecuteTime": {
     "end_time": "2019-03-06T23:40:18.854375Z",
     "start_time": "2019-03-06T23:40:03.578112Z"
    }
   },
   "outputs": [
    {
     "name": "stdout",
     "output_type": "stream",
     "text": [
      "done in 4.784s\n"
     ]
    }
   ],
   "source": [
    "t0 = time()\n",
    "clf = LinearSVC(dual=False)\n",
    "clf.fit(Z_train, y_train)\n",
    "print(\"done in %0.3fs\" % (time() - t0))"
   ]
  },
  {
   "cell_type": "code",
   "execution_count": 25,
   "metadata": {
    "ExecuteTime": {
     "end_time": "2019-03-06T23:40:20.508156Z",
     "start_time": "2019-03-06T23:40:20.481910Z"
    }
   },
   "outputs": [
    {
     "name": "stdout",
     "output_type": "stream",
     "text": [
      "done in 0.008s\n",
      "classification accuracy: 0.972\n"
     ]
    }
   ],
   "source": [
    "t1 = time()\n",
    "accuracy = clf.score(Z_test, y_test)\n",
    "print(\"done in %0.3fs\" % (time() - t1))\n",
    "print(\"classification accuracy: %0.3f\" % accuracy)"
   ]
  },
  {
   "cell_type": "markdown",
   "metadata": {},
   "source": [
    "# Performance Overview"
   ]
  },
  {
   "cell_type": "code",
   "execution_count": 26,
   "metadata": {
    "ExecuteTime": {
     "end_time": "2019-03-07T01:07:28.146932Z",
     "start_time": "2019-03-06T23:43:11.762606Z"
    }
   },
   "outputs": [
    {
     "name": "stdout",
     "output_type": "stream",
     "text": [
      "Training SVMs for various values of c...\n",
      "0 20\n",
      "1 70\n",
      "2 120\n",
      "3 170\n",
      "4 220\n",
      "5 270\n",
      "6 320\n",
      "7 370\n",
      "8 420\n",
      "9 470\n",
      "10 520\n",
      "11 570\n"
     ]
    }
   ],
   "source": [
    "ranks = np.arange(20, 600, 50)\n",
    "n_ranks = len(ranks)\n",
    "\n",
    "timing_rkf = np.zeros(n_ranks)\n",
    "timing_nystrom = np.zeros(n_ranks)\n",
    "timing_linear = np.zeros(n_ranks)\n",
    "timing_rbf = np.zeros(n_ranks)\n",
    "\n",
    "accuracy_nystrom = np.zeros(n_ranks)\n",
    "accuracy_rkf = np.zeros(n_ranks)\n",
    "accuracy_linear = np.zeros(n_ranks)\n",
    "accuracy_rbf = np.zeros(n_ranks)\n",
    "\n",
    "print(\"Training SVMs for various values of c...\")\n",
    "\n",
    "for i, c in enumerate(ranks):\n",
    "    \n",
    "    print(i, c)\n",
    "\n",
    "    ## Nystorm\n",
    "    Z_ny_train, Z_ny_test = nystrom(X_train, X_test, gamma, c=c, k=300, seed=44)\n",
    "\n",
    "    t0 = time()\n",
    "    clf = LinearSVC(dual=False)\n",
    "    clf.fit(Z_ny_train, y_train)\n",
    "    accuracy_nystrom[i] = clf.score(Z_ny_test, y_test)\n",
    "    timing_nystrom[i] = time() - t0\n",
    "\n",
    "    ## Random Kernel Feature\n",
    "    Z_rkf_train, Z_rkf_test = random_features(X_train, X_test, gamma, c=c, seed=44)\n",
    "    t0 = time()\n",
    "    clf = LinearSVC(dual=False)\n",
    "    clf.fit(Z_rkf_train, y_train)\n",
    "    accuracy_rkf[i] = clf.score(Z_rkf_test, y_test)\n",
    "    timing_rkf[i] = time() - t0\n",
    "\n",
    "    ## Linear\n",
    "    t0 = time()\n",
    "    clf = LinearSVC(dual=False)\n",
    "    clf.fit(X_train, y_train)\n",
    "    accuracy_linear[i] = clf.score(X_test, y_test)\n",
    "    timing_linear[i] = time() - t0\n",
    "    \n",
    "    ## RBF\n",
    "    t0 = time()\n",
    "    clf = SVC(kernel='rbf')\n",
    "    clf.fit(X_train, y_train)\n",
    "    accuracy_rbf[i] = clf.score(X_test, y_test)\n",
    "    timing_rbf[i] = time() - t0"
   ]
  },
  {
   "cell_type": "code",
   "execution_count": 27,
   "metadata": {
    "ExecuteTime": {
     "end_time": "2019-03-07T08:05:31.739789Z",
     "start_time": "2019-03-07T08:05:30.936611Z"
    }
   },
   "outputs": [
    {
     "data": {
      "image/png": "[encoded data removed]",
      "text/plain": [
       "<Figure size 1000x600 with 2 Axes>"
      ]
     },
     "metadata": {},
     "output_type": "display_data"
    }
   ],
   "source": [
    "f, axes = plt.subplots(ncols=1, nrows=2, figsize=(10,6))\n",
    "ax1, ax2 = axes.ravel()\n",
    "\n",
    "ax1.plot(ranks-10, timing_nystrom, '-', label='Nystrom')\n",
    "ax1.plot(ranks, timing_rkf, '-', label='RKF')\n",
    "ax1.plot(ranks, timing_linear * np.ones(n_ranks), '-', label='LinearSVC')\n",
    "ax1.plot(ranks, timing_kernel * np.ones(n_ranks), '-', label='RBF')\n",
    "\n",
    "ax1.set_xlabel('Number of features')\n",
    "ax1.set_ylabel('Time')\n",
    "ax1.legend(loc='lower right')\n",
    "\n",
    "ax2.plot(ranks-10, accuracy_nystrom, '-', label='Nystrom')\n",
    "ax2.plot(ranks, accuracy_rkf, '-', label='RKF')\n",
    "ax2.plot(ranks, accuracy_linear * np.ones(n_ranks), '-', label='LinearSVC')\n",
    "ax2.plot(ranks, accuracy_kernel * np.ones(n_ranks), '-', label='RBF')\n",
    "ax2.set_xlabel('Number of features')\n",
    "ax2.set_ylabel('Accuracy')\n",
    "ax2.legend(loc='lower right')\n",
    "plt.tight_layout()\n",
    "plt.show()"
   ]
  },
  {
   "cell_type": "code",
   "execution_count": 30,
   "metadata": {},
   "outputs": [],
   "source": [
    "#ploynomial kernel\n",
    "from sklearn.metrics.pairwise import polynomial_kernel, sigmoid_kernel\n",
    "#different kernels\n",
    "#rbf_kernel\n",
    "gaussian_kernel = RBF(length_scale=1.0)\n",
    "#matern_kernel\n",
    "matern_kernel = Matern(length_scale=1.0, nu=1.5)\n",
    "#laplacian_kernel\n",
    "laplacian_kernel = PairwiseKernel(metric='laplacian',pairwise_kernels_kwargs={'gamma':1.0})\n",
    "#polynomial_kernel\n",
    "polynomial_kernel =PairwiseKernel(metric='polynomial',pairwise_kernels_kwargs={'degree':3.0})\n",
    "#sigmoid_kernel\n",
    "sigmoid_kernel = PairwiseKernel(metric='sigmoid')\n",
    "#t-student kernel\n",
    "def t_student_kernel(X, Y):\n",
    "    \n",
    "    dis = np.sum((X-Y) ** X.shape[1])\n",
    "    return 1/(1+dis)\n",
    "#cauchy kernel\n",
    "def cauchy_kernel(X, Y, sigma=1.0):\n",
    "        \n",
    "        dis = np.sum((X-Y) ** 2)\n",
    "        return 1/(1+dis/sigma)\n",
    "kernels = [gaussian_kernel, matern_kernel, laplacian_kernel, polynomial_kernel, sigmoid_kernel, t_student_kernel, cauchy_kernel]\n",
    "\n"
   ]
  },
  {
   "cell_type": "code",
   "execution_count": null,
   "metadata": {},
   "outputs": [],
   "source": [
    "class Nystorm_Kernel:\n",
    "    \n",
    "    def __init__(self, kernel, c=500, k=300, seed=42, alpha=1.0):\n",
    "        \n",
    "        self.kernel = kernel\n",
    "        self.c = c\n",
    "        self.k = k\n",
    "        self.seed = seed\n",
    "        self.fitted = False\n",
    "        self.X_idx = None\n",
    "        self.M = None\n",
    "        self.lm = Ridge(alpha=alpha)\n",
    "        \n",
    "    def fit(self, X,y):\n",
    "    \n",
    "        X_idx = X.sample(self.c, random_state=self.seed)\n",
    "        \n",
    "        #W = rbf_kernel(X_idx, X_idx, gamma=gamma)\n",
    "        #matern kernel\n",
    "        W = self.kernel(X_idx, X_idx)\n",
    "    \n",
    "        u, s, vt = linalg.svd(W, full_matrices=False)\n",
    "    \n",
    "        u = u[:,:self.k]\n",
    "        s = s[:self.k]\n",
    "        vt = vt[:self.k, :]\n",
    "    \n",
    "        M = np.dot(u, np.diag(1/np.sqrt(s)))\n",
    "        \n",
    "        self.X_idx = X_idx\n",
    "        self.M = M\n",
    "        self.fitted = True\n",
    "        Z_train = self.transform(X)\n",
    "        self.lm.fit(Z_train, y)\n",
    "    \n",
    "    def transform(self, X):\n",
    "        \n",
    "        if not self.fitted:\n",
    "            msg = \"Call 'fit' with appropriate arguments first.\"\n",
    "            raise NotFittedError(msg)\n",
    "        \n",
    "        C = self.kernel(X, self.X_idx)\n",
    "        Z = np.dot(C, self.M)\n",
    "\n",
    "        return Z\n",
    "    \n",
    "    def predict(self, X):\n",
    "            \n",
    "            if not self.fitted:\n",
    "                msg = \"Call 'fit' with appropriate arguments first.\"\n",
    "                raise NotFittedError(msg)\n",
    "            \n",
    "            Z = self.transform(X)\n",
    "            \n",
    "            return self.lm.predict(Z)"
   ]
  },
  {
   "cell_type": "code",
   "execution_count": 31,
   "metadata": {},
   "outputs": [
    {
     "data": {
      "text/plain": [
       "array([1, 2, 3])"
      ]
     },
     "execution_count": 31,
     "metadata": {},
     "output_type": "execute_result"
    }
   ],
   "source": [
    "import numpy as np\n",
    "a = np.array([[1,2,3],[4,5,6]])\n",
    "a[0]"
   ]
  },
  {
   "cell_type": "code",
   "execution_count": 32,
   "metadata": {},
   "outputs": [
    {
     "data": {
      "text/plain": [
       "array([1, 4])"
      ]
     },
     "execution_count": 32,
     "metadata": {},
     "output_type": "execute_result"
    }
   ],
   "source": [
    "#the 0th column of a\n",
    "a[:,0]"
   ]
  },
  {
   "cell_type": "code",
   "execution_count": null,
   "metadata": {},
   "outputs": [],
   "source": [
    "#save final, beta and name_orders\n",
    "with open('final.pkl', 'w') as f:\n",
    "    pickle.dump(final, f)\n",
    "with open('beta.pkl', 'w') as f:\n",
    "    pickle.dump(beta, f)\n",
    "with open('name_orders.pkl', 'w') as f:\n",
    "    pickle.dump(name_orders, f)"
   ]
  },
  {
   "cell_type": "code",
   "execution_count": 38,
   "metadata": {},
   "outputs": [
    {
     "data": {
      "text/plain": [
       "[<matplotlib.lines.Line2D at 0x15d0449d0>]"
      ]
     },
     "execution_count": 38,
     "metadata": {},
     "output_type": "execute_result"
    },
    {
     "data": {
      "image/png": "[encoded data removed]",
      "text/plain": [
       "<Figure size 640x480 with 1 Axes>"
      ]
     },
     "metadata": {},
     "output_type": "display_data"
    }
   ],
   "source": [
    "import pandas as pd\n",
    "\n",
    "start_date = '2018-01-01'\n",
    "end_date = '2018-12-31'\n",
    "dates = [str(x) for x in pd.date_range(start_date, end_date) if (x.weekday() < 5)]\n",
    "pnls = pd.DataFrame(index=dates)\n",
    "pnls['pnl'] = 0\n",
    "#plot the pnl according to the year\n",
    "#show the change of year on the x axis\n",
    "#show the pnl on the y axis\n",
    "plt.plot(pnls)\n",
    "#not show eve\n"
   ]
  },
  {
   "cell_type": "code",
   "execution_count": 44,
   "metadata": {},
   "outputs": [],
   "source": [
    "a = pd.DataFrame({'a':[1,2,3,5], 'b':[4,1,6,8]})\n",
    "b = pd.DataFrame({'a':[1,2,3], 'b':[4,5,6]})\n",
    "#assign b.index rows values of b to a\n",
    "a.loc[b.index] = b"
   ]
  },
  {
   "cell_type": "code",
   "execution_count": 45,
   "metadata": {},
   "outputs": [
    {
     "data": {
      "text/html": [
       "<div>\n",
       "<style scoped>\n",
       "    .dataframe tbody tr th:only-of-type {\n",
       "        vertical-align: middle;\n",
       "    }\n",
       "\n",
       "    .dataframe tbody tr th {\n",
       "        vertical-align: top;\n",
       "    }\n",
       "\n",
       "    .dataframe thead th {\n",
       "        text-align: right;\n",
       "    }\n",
       "</style>\n",
       "<table border=\"1\" class=\"dataframe\">\n",
       "  <thead>\n",
       "    <tr style=\"text-align: right;\">\n",
       "      <th></th>\n",
       "      <th>a</th>\n",
       "      <th>b</th>\n",
       "    </tr>\n",
       "  </thead>\n",
       "  <tbody>\n",
       "    <tr>\n",
       "      <th>0</th>\n",
       "      <td>1</td>\n",
       "      <td>4</td>\n",
       "    </tr>\n",
       "    <tr>\n",
       "      <th>1</th>\n",
       "      <td>2</td>\n",
       "      <td>5</td>\n",
       "    </tr>\n",
       "    <tr>\n",
       "      <th>2</th>\n",
       "      <td>3</td>\n",
       "      <td>6</td>\n",
       "    </tr>\n",
       "    <tr>\n",
       "      <th>3</th>\n",
       "      <td>5</td>\n",
       "      <td>8</td>\n",
       "    </tr>\n",
       "  </tbody>\n",
       "</table>\n",
       "</div>"
      ],
      "text/plain": [
       "   a  b\n",
       "0  1  4\n",
       "1  2  5\n",
       "2  3  6\n",
       "3  5  8"
      ]
     },
     "execution_count": 45,
     "metadata": {},
     "output_type": "execute_result"
    }
   ],
   "source": []
  }
 ],
 "metadata": {
  "kernelspec": {
   "display_name": "Python 3",
   "language": "python",
   "name": "python3"
  },
  "language_info": {
   "codemirror_mode": {
    "name": "ipython",
    "version": 3
   },
   "file_extension": ".py",
   "mimetype": "text/x-python",
   "name": "python",
   "nbconvert_exporter": "python",
   "pygments_lexer": "ipython3",
   "version": "3.10.9"
  },
  "latex_envs": {
   "LaTeX_envs_menu_present": true,
   "autoclose": false,
   "autocomplete": true,
   "bibliofile": "biblio.bib",
   "cite_by": "apalike",
   "current_citInitial": 1,
   "eqLabelWithNumbers": true,
   "eqNumInitial": 1,
   "hotkeys": {
    "equation": "Ctrl-E",
    "itemize": "Ctrl-I"
   },
   "labels_anchors": false,
   "latex_user_defs": false,
   "report_style_numbering": false,
   "user_envs_cfg": false
  }
 },
 "nbformat": 4,
 "nbformat_minor": 2
}
