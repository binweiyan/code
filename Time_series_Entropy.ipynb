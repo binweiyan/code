{
 "cells": [
  {
   "cell_type": "code",
   "execution_count": 1,
   "metadata": {},
   "outputs": [],
   "source": [
    "import EntropyHub\n",
    "import numpy as np\n",
    "def En_log(U, m, r):\n",
    "    U = np.array(U)\n",
    "    N = U.shape[0]\n",
    "    phi = np.zeros(N - m + 1)\n",
    "    for i in range(N - m + 1):\n",
    "        phi[i] = np.sum(np.abs(U[i] - U).max(axis=1) <= r)\n",
    "    phi = phi / (N - m + 1)\n",
    "    return np.sum(np.log(phi)) / (N - m + 1)\n",
    "\n",
    "def En(U, m, r):\n",
    "    U = np.array(U)\n",
    "    N = U.shape[0]\n",
    "    phi = np.zeros(N - m + 1)\n",
    "    for i in range(N - m + 1):\n",
    "        phi[i] = np.sum(np.abs(U[i] - U[i + 1:]).max(axis=1) <= r)\n",
    "    phi = phi / (N - m + 1)\n",
    "    return np.sum(phi) / (N - m + 1)\n",
    "\n",
    "#Approximate Entropy\n",
    "def ApEn(U, m, r):\n",
    "    En1 = En_log(U, m, r)\n",
    "    En2 = En_log(U, m + 1, r)\n",
    "    return En1 - En2\n",
    "\n",
    "#Sample Entropy\n",
    "def SampEn(U, m, r):\n",
    "    En1 = En(U, m, r)\n",
    "    En2 = En(U, m + 1, r)\n",
    "    return np.log(En1 / En2)\n",
    "\n",
    "#Permutation entropy\n",
    "def PermEn(U, m, r):\n",
    "    #change U to permutation\n",
    "    U = np.array(U)\n",
    "    U_perm = np.zeros(U.shape)\n",
    "    for i in range(U.shape[0]):\n",
    "        U_perm[i] = np.argsort(U[i])\n",
    "    #calculate permutation entropy\n",
    "    return En(U_perm, m, r)\n",
    "\n",
    "#Spectral entropy\n",
    "def SpecEn(U, m, r):\n",
    "    #change U to spectrum\n",
    "    U = np.array(U)\n",
    "    U_spec = np.zeros(U.shape)\n",
    "    for i in range(U.shape[0]):\n",
    "        U_spec[i] = np.fft.fft(U[i])\n",
    "    return En(U_spec, m, r)\n",
    "\n",
    "#Fuzzy entropy\n",
    "def FuzzyEn(U, m, r):\n",
    "    #change U to permutation\n",
    "    U = np.array(U)\n",
    "    entropy = 0\n",
    "    D_value = []\n",
    "    for i in range(U.shape[0]):\n",
    "        D_value.append(np.abs(U[i] - U).max(axis=1))\n",
    "    D_value = np.array(D_value)\n",
    "    D_value = np.exp(-np.square(D_value) / r)\n",
    "    #set diagonal to 0\n",
    "    D_value = D_value - np.diag(np.diag(D_value))\n",
    "    for i in range(U.shape[0]):\n",
    "        entropy += np.sum(D_value[i])\n",
    "    entropy = entropy / (U.shape[0] * (U.shape[0] - 1))\n",
    "    return entropy\n",
    "\n"
   ]
  },
  {
   "cell_type": "code",
   "execution_count": 7,
   "metadata": {},
   "outputs": [
    {
     "data": {
      "text/plain": [
       "array([1, 2, 3, 4])"
      ]
     },
     "execution_count": 7,
     "metadata": {},
     "output_type": "execute_result"
    }
   ],
   "source": [
    "#np.diag example\n",
    "import numpy as np\n",
    "np.diag(np.diag([1,2,3,4]))\n",
    "\n"
   ]
  },
  {
   "cell_type": "code",
   "execution_count": null,
   "metadata": {},
   "outputs": [],
   "source": [
    "\n",
    "def Hurst(data, i):\n",
    "    \"\"\"Return Hurst exponent of data.\"\"\"\n",
    "    # Create the range of lag values\n",
    "    def subHurst(x):\n",
    "        x = np.array(x)\n",
    "        m = np.mean(x)\n",
    "        y = x - m\n",
    "        z = np.cumsum(y)\n",
    "        r = np.ptp(z)\n",
    "        s = np.std(x)\n",
    "        return r/s\n",
    "    \n",
    "    e = data['DD.ret'].rolling(i).apply(subHurst)\n",
    "    r = np.log(e) / np.log(i)\n",
    "    return r"
   ]
  }
 ],
 "metadata": {
  "kernelspec": {
   "display_name": "base",
   "language": "python",
   "name": "python3"
  },
  "language_info": {
   "codemirror_mode": {
    "name": "ipython",
    "version": 3
   },
   "file_extension": ".py",
   "mimetype": "text/x-python",
   "name": "python",
   "nbconvert_exporter": "python",
   "pygments_lexer": "ipython3",
   "version": "3.10.9"
  },
  "orig_nbformat": 4
 },
 "nbformat": 4,
 "nbformat_minor": 2
}
