{
 "cells": [
  {
   "cell_type": "code",
   "execution_count": 3,
   "metadata": {},
   "outputs": [
    {
     "name": "stdout",
     "output_type": "stream",
     "text": [
      "Epoch: 0, loss: 0.8144\n",
      "Epoch: 100, loss: 0.7845\n",
      "Epoch: 200, loss: 0.1267\n",
      "Epoch: 300, loss: 0.2149\n",
      "Epoch: 400, loss: 0.0147\n",
      "Epoch: 500, loss: 0.0073\n",
      "Epoch: 600, loss: 0.0045\n",
      "Epoch: 700, loss: 0.0031\n",
      "Epoch: 800, loss: 0.0023\n",
      "Epoch: 900, loss: 0.0018\n"
     ]
    }
   ],
   "source": [
    "#many to many\n",
    "import torch\n",
    "import torch.nn as nn\n",
    "import torch.nn.functional as F\n",
    "import torch.optim as optim\n",
    "import numpy as np\n",
    "import random\n",
    "import matplotlib.pyplot as plt\n",
    "\n",
    "torch.manual_seed(1)\n",
    "\n",
    "# Hyperparameters\n",
    "epochs = 1000\n",
    "lr = 0.1\n",
    "input_size = 2\n",
    "hidden_size = 2\n",
    "output_size = 2\n",
    "batch_size = 1\n",
    "seq_len = 20\n",
    "num_layers = 1\n",
    "\n",
    "# Data\n",
    "inputs = torch.Tensor([[random.random() for _ in range(input_size)] for _ in range(seq_len)])\n",
    "targets = torch.LongTensor([random.randint(0, 1) for _ in range(seq_len)])\n",
    "\n",
    "device = torch.device('cuda' if torch.cuda.is_available() else 'cpu')\n",
    "\n",
    "# Model\n",
    "# many to many LSTM\n",
    "\n",
    "class LSTMmany(nn.Module):\n",
    "    def __init__(self, input_size, hidden_size, output_size, num_layers):\n",
    "        super(LSTMmany, self).__init__()\n",
    "        self.hidden_size = hidden_size\n",
    "        self.num_layers = num_layers\n",
    "        self.lstmencoder = nn.LSTM(input_size, hidden_size, num_layers)\n",
    "        self.lstmdecoder = nn.LSTM(hidden_size, hidden_size, num_layers)\n",
    "        self.linear = nn.Linear(hidden_size, output_size)\n",
    "        self.hidden = self.init_hidden()\n",
    "\n",
    "    def init_hidden(self):\n",
    "        return (torch.zeros(self.num_layers, batch_size, self.hidden_size).to(device),\n",
    "                torch.zeros(self.num_layers, batch_size, self.hidden_size).to(device))\n",
    "    \n",
    "    def forward(self, input):\n",
    "        output, self.hidden = self.lstmencoder(input.view(len(input), batch_size, -1), self.hidden)\n",
    "        output, self.hidden = self.lstmdecoder(output, self.hidden)\n",
    "        output = self.linear(output.view(len(input), -1))\n",
    "        return output\n",
    "    \n",
    "model = LSTMmany(input_size, hidden_size, output_size, num_layers).to(device)\n",
    "criterion = nn.CrossEntropyLoss()\n",
    "optimizer = optim.Adam(model.parameters(), lr=lr)\n",
    "\n",
    "# Train\n",
    "for epoch in range(epochs):\n",
    "    model.zero_grad()\n",
    "    model.hidden = model.init_hidden()\n",
    "    input = torch.Tensor(inputs).to(device)\n",
    "    target = torch.Tensor(targets).to(device)\n",
    "    output = model(input)\n",
    "    loss = criterion(output, target.view(-1).long())\n",
    "    loss.backward()\n",
    "    optimizer.step()\n",
    "    if epoch % 100 == 0:\n",
    "        print('Epoch: %d, loss: %.4f' % (epoch, loss.item()))"
   ]
  },
  {
   "cell_type": "code",
   "execution_count": 6,
   "metadata": {},
   "outputs": [
    {
     "data": {
      "text/plain": [
       "torch.Size([20])"
      ]
     },
     "execution_count": 6,
     "metadata": {},
     "output_type": "execute_result"
    }
   ],
   "source": [
    "class ManyDataset(torch.utils.data.Dataset):\n",
    "\n",
    "    def __init__(self, X, y, day, input_len=128):\n",
    "        #the input data is a 1d array, indicate the minute of the day\n",
    "        self.X = X\n",
    "        self.y = y\n",
    "        self.day = day\n",
    "        self.input_len = input_len\n",
    "\n",
    "    def __getitem__(self, index):\n",
    "        #output previous self.input_len minutes data and target value\n",
    "        #if the there is no enough data in the same day, pad with 0\n",
    "        #y is the target value of future input_len minutes\n",
    "        d = self.day[index]\n",
    "        start = index - self.input_len\n",
    "        if start < 0:\n",
    "            start = 0\n",
    "        if self.day[start] != d:\n",
    "            while self.day[start] != d:\n",
    "                start += 1\n",
    "            #pad with 0 before start\n",
    "        if index - start < self.input_len:\n",
    "            x = torch.zeros(self.input_len, self.X.shape[1])\n",
    "            x[self.input_len - index + start: self.input_len] = self.X[start: index].clone()\n",
    "        else:\n",
    "            x = self.X[start: index]\n",
    "\n",
    "        #generate y\n",
    "        end = index + self.input_len\n",
    "        if end >= len(self.X):\n",
    "            end = len(self.X) - 1\n",
    "        if self.day[end] != d:\n",
    "            while self.day[end] != d:\n",
    "                end -= 1\n",
    "        #pad with 0 after end\n",
    "        if end - index < self.input_len:\n",
    "            y = torch.zeros(self.input_len)\n",
    "            y[0: end - index] = self.y[index: end].clone()\n",
    "        else:\n",
    "            y = self.y[index: end]\n",
    "            \n",
    "\n",
    "        return x, y\n",
    "    def __len__(self):\n",
    "        return len(self.X)"
   ]
  },
  {
   "cell_type": "code",
   "execution_count": 7,
   "metadata": {},
   "outputs": [
    {
     "name": "stdout",
     "output_type": "stream",
     "text": [
      "Mean Absolute Error: 0.2462523340681022\n",
      "Mean Squared Error: 0.08989224660272291\n",
      "Root Mean Squared Error: 0.2998203572186567\n"
     ]
    }
   ],
   "source": [
    "#KNN\n",
    "import numpy as np\n",
    "import pandas as pd\n",
    "import matplotlib.pyplot as plt\n",
    "from sklearn.neighbors import KNeighborsClassifier, KNeighborsRegressor\n",
    "from sklearn import metrics\n",
    "from sklearn.model_selection import train_test_split\n",
    "from sklearn.metrics import accuracy_score\n",
    "from sklearn.neighbors import KDTree, BallTree\n",
    "\n",
    "# generate random regression data\n",
    "X = np.random.rand(100, 10)\n",
    "y = np.random.rand(100, 1)\n",
    "\n",
    "# split data into train and test\n",
    "X_train, X_test, y_train, y_test = train_test_split(X, y, test_size=0.2)\n",
    "\n",
    "# instantiate learning model (k = 3)\n",
    "knn = KNeighborsRegressor(n_neighbors=3, algorithm='kd_tree')\n"
   ]
  },
  {
   "cell_type": "code",
   "execution_count": 8,
   "metadata": {},
   "outputs": [],
   "source": []
  }
 ],
 "metadata": {
  "kernelspec": {
   "display_name": "base",
   "language": "python",
   "name": "python3"
  },
  "language_info": {
   "codemirror_mode": {
    "name": "ipython",
    "version": 3
   },
   "file_extension": ".py",
   "mimetype": "text/x-python",
   "name": "python",
   "nbconvert_exporter": "python",
   "pygments_lexer": "ipython3",
   "version": "3.10.9"
  },
  "orig_nbformat": 4
 },
 "nbformat": 4,
 "nbformat_minor": 2
}
