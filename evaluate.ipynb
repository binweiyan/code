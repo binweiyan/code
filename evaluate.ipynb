{
 "cells": [
  {
   "cell_type": "code",
   "execution_count": null,
   "metadata": {},
   "outputs": [],
   "source": [
    "import pandas as pd\n",
    "from datetime import datetime\n",
    "\n",
    "def load_and_process_data(symbol, alpha_path, alpha_column, tradol, start_date, end_date):\n",
    "    # Construct the file path and load data\n",
    "    file_path = f\"{alpha_path}/{symbol}.csv\"\n",
    "    data = pd.read_csv(file_path)\n",
    "    \n",
    "    # Convert date column to datetime\n",
    "    data['Date'] = pd.to_datetime(data['Date'])\n",
    "    \n",
    "    # Filter data based on the date range\n",
    "    mask = (data['Date'] >= start_date) & (data['Date'] <= end_date)\n",
    "    filtered_data = data.loc[mask]\n",
    "    \n",
    "    # Calculate the product of alpha and tradol\n",
    "    filtered_data['product'] = filtered_data[alpha_column] * filtered_data[tradol]\n",
    "    \n",
    "    return filtered_data\n",
    "\n",
    "def aggregate_data(symbols, alpha_path, alpha_column, tradol, start_date, end_date):\n",
    "    all_data = []\n",
    "    \n",
    "    # Process each symbol\n",
    "    for symbol in symbols:\n",
    "        symbol_data = load_and_process_data(symbol, alpha_path, alpha_column, tradol, start_date, end_date)\n",
    "        all_data.append(symbol_data)\n",
    "        \n",
    "    # Concatenate all data frames\n",
    "    concatenated_data = pd.concat(all_data)\n",
    "    \n",
    "    # Aggregate the product by date\n",
    "    result = concatenated_data.groupby('Date')['product'].sum().reset_index()\n",
    "    \n",
    "    return result\n",
    "\n",
    "# Usage example\n",
    "symbols = ['AAPL', 'MSFT', 'GOOGL']  # List of stock symbols\n",
    "alpha_path = '/path/to/alpha/files'  # Directory containing alpha files\n",
    "alpha_column = 'Alpha'  # Column name for alpha values\n",
    "tradol = 'Tradol'  # Column name for trading dollar volume\n",
    "start_date = datetime(2023, 1, 1)\n",
    "end_date = datetime(2023, 1, 31)\n",
    "\n",
    "# Execute the aggregation function\n",
    "result = aggregate_data(symbols, alpha_path, alpha_column, tradol, start_date, end_date)\n",
    "print(result)\n"
   ]
  }
 ],
 "metadata": {
  "language_info": {
   "name": "python"
  }
 },
 "nbformat": 4,
 "nbformat_minor": 2
}
